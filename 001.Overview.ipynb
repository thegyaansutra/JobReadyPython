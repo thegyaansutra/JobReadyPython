{
 "cells": [
  {
   "cell_type": "markdown",
   "id": "9902a705-b369-4fc1-a4fc-76c9cbab3be1",
   "metadata": {},
   "source": [
    "Python is a high-level, interpreted, interactive and object-oriented scripting language. Python is designed to be highly readable. It uses English keywords frequently where as other languages use punctuation, and it has fewer syntactical constructions than other languages.\n",
    "\n",
    "- **Python is Interpreted** − Python is processed at runtime by the interpreter. You do not need to compile your program before executing it. This is similar to PERL and PHP.\n",
    "- **Python is Interactive** − You can actually sit at a Python prompt and interact with the interpreter directly to write your programs.\n",
    "- **Python is Object-Oriented** − Python supports Object-Oriented style or technique of programming that encapsulates code within objects.\n",
    "- **Python is a Beginner's Language** − Python is a great language for the beginner-level programmers and supports the development of a wide range of applications from simple text processing to WWW browsers to games."
   ]
  },
  {
   "cell_type": "markdown",
   "id": "183d1a61-f5b7-4b0a-bc43-5a067d75cf19",
   "metadata": {},
   "source": [
    "Python is a high-level, interpreted, interactive and object-oriented scripting language. Python is designed to be highly readable. It uses English keywords frequently where as other languages use punctuation, and it has fewer syntactical constructions than other languages.\n",
    "\n",
    "- **Python is Interpreted** − Python is processed at runtime by the interpreter. You do not need to compile your program before executing it. This is similar to PERL and PHP.\n",
    "- **Python is Interactive** − You can actually sit at a Python prompt and interact with the interpreter directly to write your programs.\n",
    "- **Python is Object-Oriented** − Python supports Object-Oriented style or technique of programming that encapsulates code within objects.\n",
    "- **Python is a Beginner's Language** − Python is a great language for the beginner-level programmers and supports the development of a wide range of applications from simple text processing to WWW browsers to games.\n",
    "\n",
    "Python is an open-source and cross-platform programming language. It is available for use under **Python Software Foundation License** (compatible to GNU General Public License) on all the major operating system platforms Linux, Windows and Mac OS.\n",
    "\n",
    "To facilitate new features and to maintain that readability, the Python Enhancement Proposal (PEP) process was developed. This process allows anyone to submit a PEP for a new feature, library, or other addition.\n",
    "\n",
    "The design philosophy of Python emphasizes on simplicity, readability and unambiguity. Python is known for its batteries included approach as Python software is distributed with a comprehensive standard library of functions and modules.\n",
    "\n",
    "Python's design philosophy is documented in the **Zen of Python**. It consists of nineteen aphorisms such as −\n",
    "\n",
    "- Beautiful is better than ugly\n",
    "- Explicit is better than implicit\n",
    "- Simple is better than complex\n",
    "- Complex is better than complicated\n",
    "\n",
    "To obtain the complete Zen of Python document, type \"import this\""
   ]
  },
  {
   "cell_type": "code",
   "execution_count": 4,
   "id": "b3730f3e-b194-49fc-898c-72e29950e5d8",
   "metadata": {},
   "outputs": [
    {
     "name": "stdout",
     "output_type": "stream",
     "text": [
      "The Zen of Python, by Tim Peters\n",
      "\n",
      "Beautiful is better than ugly.\n",
      "Explicit is better than implicit.\n",
      "Simple is better than complex.\n",
      "Complex is better than complicated.\n",
      "Flat is better than nested.\n",
      "Sparse is better than dense.\n",
      "Readability counts.\n",
      "Special cases aren't special enough to break the rules.\n",
      "Although practicality beats purity.\n",
      "Errors should never pass silently.\n",
      "Unless explicitly silenced.\n",
      "In the face of ambiguity, refuse the temptation to guess.\n",
      "There should be one-- and preferably only one --obvious way to do it.\n",
      "Although that way may not be obvious at first unless you're Dutch.\n",
      "Now is better than never.\n",
      "Although never is often better than *right* now.\n",
      "If the implementation is hard to explain, it's a bad idea.\n",
      "If the implementation is easy to explain, it may be a good idea.\n",
      "Namespaces are one honking great idea -- let's do more of those!\n"
     ]
    }
   ],
   "source": [
    "import this"
   ]
  },
  {
   "cell_type": "markdown",
   "id": "839af583-b18a-4f34-b5ff-d6e9250517c4",
   "metadata": {},
   "source": [
    "## Pythonic Code Style\n",
    "\n",
    "Python leaves you free to choose to program in an object-oriented, procedural, functional, aspect-oriented, or even logic-oriented way. These freedoms make Python a great language to write clean and beautiful code.\n",
    "\n",
    "Pythonic Code Style is actually more of a design philosophy and suggests to write a code which is :\n",
    "\n",
    "- Clean\n",
    "- Simple\n",
    "- Beautiful\n",
    "- Explicit\n",
    "- Readable"
   ]
  },
  {
   "cell_type": "code",
   "execution_count": null,
   "id": "9529e1e0-57e8-4c66-bb85-a5671047e53d",
   "metadata": {},
   "outputs": [],
   "source": []
  },
  {
   "cell_type": "code",
   "execution_count": null,
   "id": "82e2c33b-7249-4a4e-bcfa-57088fe91b9a",
   "metadata": {},
   "outputs": [],
   "source": []
  },
  {
   "cell_type": "code",
   "execution_count": null,
   "id": "9cbdf5fd-6110-4bfa-9111-0ba30274c61d",
   "metadata": {},
   "outputs": [],
   "source": []
  },
  {
   "cell_type": "code",
   "execution_count": null,
   "id": "6ce5bccc-454e-4c90-b269-8b19111407b5",
   "metadata": {},
   "outputs": [],
   "source": []
  },
  {
   "cell_type": "code",
   "execution_count": null,
   "id": "78d55dc0-bfb0-436e-ac4d-77ca8be48f53",
   "metadata": {},
   "outputs": [],
   "source": []
  },
  {
   "cell_type": "code",
   "execution_count": null,
   "id": "937a5e54-ca82-4449-ac28-a43e8f3caf70",
   "metadata": {},
   "outputs": [],
   "source": []
  },
  {
   "cell_type": "code",
   "execution_count": null,
   "id": "1980da78-d9f3-4e3e-a8b2-19b8b96a59ca",
   "metadata": {},
   "outputs": [],
   "source": []
  }
 ],
 "metadata": {
  "kernelspec": {
   "display_name": "Python 3 (ipykernel)",
   "language": "python",
   "name": "python3"
  },
  "language_info": {
   "codemirror_mode": {
    "name": "ipython",
    "version": 3
   },
   "file_extension": ".py",
   "mimetype": "text/x-python",
   "name": "python",
   "nbconvert_exporter": "python",
   "pygments_lexer": "ipython3",
   "version": "3.12.7"
  }
 },
 "nbformat": 4,
 "nbformat_minor": 5
}
