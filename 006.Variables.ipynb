{
 "cells": [
  {
   "cell_type": "markdown",
   "id": "6b9c7fea-a74c-4222-b54e-d0d480429c9e",
   "metadata": {},
   "source": [
    "Python variables are the reserved memory locations used to store values with in a Python Program. This means that when you create a variable you reserve some space in the memory.\n",
    "\n",
    "Based on the data type of a variable, Python interpreter allocates memory and decides what can be stored in the reserved memory. Therefore, by assigning different data types to Python variables, you can store integers, decimals or characters in these variables.\n",
    "\n",
    "## Memory Addresses\n",
    "\n",
    "Data items belonging to different data types are stored in computer's memory. Computer's memory locations are having a number or address, internally represented in binary form. Data is also stored in binary form as the computer works on the principle of binary representation. In the following diagram, a string **May** and a number **18** is shown as stored in memory locations.\n",
    "\n",
    "![Image](https://github.com/user-attachments/assets/1da3af83-02f5-4748-bfdc-d49c3c128061)\n",
    "\n",
    "\n",
    "If you know the assembly language, you will covert these data items and the memory address, and give a machine language instruction. However, it is not easy for everybody. Language translator such as Python interpreter performs this type of conversion. It stores the object in a randomly chosen memory location. Python's built-in id() function returns the address where the object is stored."
   ]
  },
  {
   "cell_type": "code",
   "execution_count": 1,
   "id": "7ddb6940-f73c-4a3d-ba22-23e203c4cf53",
   "metadata": {},
   "outputs": [],
   "source": [
    "month = \"May\"\n",
    "date = 18"
   ]
  },
  {
   "cell_type": "code",
   "execution_count": 2,
   "id": "b800c361-ea00-453d-92c0-135fb858e660",
   "metadata": {},
   "outputs": [
    {
     "name": "stdout",
     "output_type": "stream",
     "text": [
      "1654773146624\n"
     ]
    }
   ],
   "source": [
    "print(id(month))"
   ]
  },
  {
   "cell_type": "code",
   "execution_count": 3,
   "id": "b44f3963-c47c-4aa0-9fdc-29b4922c2526",
   "metadata": {},
   "outputs": [
    {
     "name": "stdout",
     "output_type": "stream",
     "text": [
      "140719739775960\n"
     ]
    }
   ],
   "source": [
    "print(id(date))"
   ]
  },
  {
   "cell_type": "markdown",
   "id": "45dc8524-189c-450e-944f-adad422b3f89",
   "metadata": {},
   "source": [
    "Once the data is stored in the memory, it should be accessed repeatedly for performing a certain process. Obviously, fetching the data from its ID is cumbersome. High level languages like Python make it possible to give a suitable alias or a label to refer to the memory location. The label is an identifier. It is usually called as a variable. A Python variable is a symbolic name that is a reference or pointer to an object."
   ]
  },
  {
   "cell_type": "markdown",
   "id": "c3d92f5e-3f44-464b-9a8d-23dd9ca6c4a8",
   "metadata": {},
   "source": [
    "## Creating Python Variables\n",
    "\n",
    "Python variables do not need explicit declaration to reserve memory space or you can say to create a variable. A Python variable is created automatically when you assign a value to it. The equal sign (=) is used to assign values to variables.\n",
    "\n",
    "The operand to the left of the = operator is the name of the variable and the operand to the right of the = operator is the value stored in the variable. For example −\n",
    "\n",
    "### Example to Create Python Variables\n",
    "\n",
    "This example creates different types (an integer, a float, and a string) of variables."
   ]
  },
  {
   "cell_type": "code",
   "execution_count": 9,
   "id": "771ef899-7eb0-4acb-be62-48804c72d02b",
   "metadata": {},
   "outputs": [],
   "source": [
    "counter = 100          # Creates an integer variable\n",
    "miles = 1000.0       # Creates a floating point variable\n",
    "name = \"Vishal Singh\"   # Creates a string variable"
   ]
  },
  {
   "cell_type": "markdown",
   "id": "e1ef7f8e-e1c0-403d-a881-079c21d249eb",
   "metadata": {},
   "source": [
    "## Printing Python Variables\n",
    "\n",
    "Once we create a Python variable and assign a value to it, we can print it using **print()** function. Following is the extension of previous example and shows how to print different variables in Python:\n",
    "\n",
    "### Example to Print Python Variables\n",
    "\n",
    "This example prints variables."
   ]
  },
  {
   "cell_type": "code",
   "execution_count": 8,
   "id": "a863141b-e709-46fd-8aa0-37ce3ace6729",
   "metadata": {},
   "outputs": [
    {
     "name": "stdout",
     "output_type": "stream",
     "text": [
      "100\n",
      "1000.0\n",
      "Vishal Singh\n"
     ]
    }
   ],
   "source": [
    "print(counter)\n",
    "print(miles)\n",
    "print(name)"
   ]
  },
  {
   "cell_type": "markdown",
   "id": "84e89f2c-f72d-4fa2-9385-8885ca6aa3bf",
   "metadata": {},
   "source": [
    "Here, 100, 1000.0 and \"Vishal Singh\" are the values assigned to counter, miles, and name variables, respectively."
   ]
  },
  {
   "cell_type": "markdown",
   "id": "9a643585-de95-4a4b-b9fb-0469402d8a8e",
   "metadata": {},
   "source": [
    "## Deleting Python Variables\n",
    "\n",
    "You can delete the reference to a number object by using the del statement. The syntax of the del statement is −\n",
    "\n",
    "```\n",
    "del var1[,var2[,var3[....,varN]]]]\n",
    "\n",
    "```\n",
    "\n",
    "You can delete a single object or multiple objects by using the del statement. For example −"
   ]
  },
  {
   "cell_type": "code",
   "execution_count": 10,
   "id": "cfe6c52c-b46d-43cc-9a79-8dafd45d26a3",
   "metadata": {},
   "outputs": [
    {
     "name": "stdout",
     "output_type": "stream",
     "text": [
      "100\n"
     ]
    }
   ],
   "source": [
    "print(counter)"
   ]
  },
  {
   "cell_type": "code",
   "execution_count": 11,
   "id": "ae7e181e-639a-481d-bb72-4d6e101c2188",
   "metadata": {},
   "outputs": [],
   "source": [
    "del counter"
   ]
  },
  {
   "cell_type": "code",
   "execution_count": 12,
   "id": "87a8d137-7e2e-4304-b417-6486aa729666",
   "metadata": {},
   "outputs": [
    {
     "ename": "NameError",
     "evalue": "name 'counter' is not defined",
     "output_type": "error",
     "traceback": [
      "\u001b[1;31m---------------------------------------------------------------------------\u001b[0m",
      "\u001b[1;31mNameError\u001b[0m                                 Traceback (most recent call last)",
      "Cell \u001b[1;32mIn[12], line 1\u001b[0m\n\u001b[1;32m----> 1\u001b[0m \u001b[38;5;28mprint\u001b[39m(counter)\n",
      "\u001b[1;31mNameError\u001b[0m: name 'counter' is not defined"
     ]
    }
   ],
   "source": [
    "print(counter)"
   ]
  },
  {
   "cell_type": "markdown",
   "id": "03aa88fe-ab1c-439a-8179-71b27e796671",
   "metadata": {},
   "source": [
    "## Getting Type of a Variable\n",
    "\n",
    "You can get the data type of a Python variable using the python built-in function type() as follows.\n",
    "\n",
    "### Example: Printing Variables Type"
   ]
  },
  {
   "cell_type": "code",
   "execution_count": 13,
   "id": "0cb7a846-4ed9-4eb7-a3f1-d68fbe7411e3",
   "metadata": {},
   "outputs": [
    {
     "name": "stdout",
     "output_type": "stream",
     "text": [
      "<class 'str'>\n",
      "<class 'int'>\n",
      "<class 'float'>\n"
     ]
    }
   ],
   "source": [
    "x = \"Vishal\"\n",
    "y =  10\n",
    "z =  10.10\n",
    "\n",
    "print(type(x))\n",
    "print(type(y))\n",
    "print(type(z))\n"
   ]
  },
  {
   "cell_type": "markdown",
   "id": "fab43bfc-1a14-4713-83e1-1628be92b44f",
   "metadata": {},
   "source": [
    "## Casting Python Variables\n",
    "\n",
    "You can specify the data type of a variable with the help of casting as follows:\n",
    "\n",
    "### Example\n",
    "\n",
    "This example demonstrates case sensitivity of variables."
   ]
  },
  {
   "cell_type": "code",
   "execution_count": 14,
   "id": "ca7276ea-d235-4846-9bd8-2754970b92bf",
   "metadata": {},
   "outputs": [
    {
     "name": "stdout",
     "output_type": "stream",
     "text": [
      "x = 10\n",
      "y = 10\n",
      "z = 10.0\n"
     ]
    }
   ],
   "source": [
    "x = str(10)    # x will be '10'\n",
    "y = int(10)    # y will be 10\n",
    "z = float(10)  # z will be 10.0\n",
    "\n",
    "print( \"x =\", x )\n",
    "print( \"y =\", y )\n",
    "print( \"z =\", z )\n"
   ]
  },
  {
   "cell_type": "code",
   "execution_count": 15,
   "id": "45c60482-e85a-45fe-9c87-47a5d2dfa47c",
   "metadata": {},
   "outputs": [
    {
     "name": "stdout",
     "output_type": "stream",
     "text": [
      "<class 'str'>\n",
      "<class 'int'>\n",
      "<class 'float'>\n"
     ]
    }
   ],
   "source": [
    "print(type(x))\n",
    "print(type(y))\n",
    "print(type(z))"
   ]
  },
  {
   "cell_type": "markdown",
   "id": "6242c84f-3b30-410a-b17a-78339d7d8635",
   "metadata": {},
   "source": [
    "## Case-Sensitivity of Python Variables\n",
    "\n",
    "Python variables are case sensitive which means **Age** and **age** are two different variables:"
   ]
  },
  {
   "cell_type": "code",
   "execution_count": 16,
   "id": "4a3c4b4a-1f20-489b-8875-755f88816874",
   "metadata": {},
   "outputs": [
    {
     "name": "stdout",
     "output_type": "stream",
     "text": [
      "age = 20\n",
      "Age = 30\n"
     ]
    }
   ],
   "source": [
    "age = 20\n",
    "Age = 30\n",
    "\n",
    "print( \"age =\", age )\n",
    "print( \"Age =\", Age )"
   ]
  },
  {
   "cell_type": "markdown",
   "id": "f31e392a-beb3-4e58-9f68-41b3642a4946",
   "metadata": {},
   "source": [
    "## Python Variables - Multiple Assignment\n",
    "\n",
    "Python allows to initialize more than one variables in a single statement. In the following case, three variables have same value."
   ]
  },
  {
   "cell_type": "code",
   "execution_count": 17,
   "id": "453edd8b-a764-427c-a614-73e38c82b1cd",
   "metadata": {},
   "outputs": [
    {
     "name": "stdout",
     "output_type": "stream",
     "text": [
      "10\n",
      "10\n",
      "10\n"
     ]
    }
   ],
   "source": [
    "a=10\n",
    "b=10\n",
    "c=10\n",
    "print(a)\n",
    "print(b)\n",
    "print(c)"
   ]
  },
  {
   "cell_type": "markdown",
   "id": "57c37e9f-b8f1-4a4e-9559-01a5d924a881",
   "metadata": {},
   "source": [
    "Instead of separate assignments, you can do it in a single assignment statement as follows"
   ]
  },
  {
   "cell_type": "code",
   "execution_count": 18,
   "id": "e56f4fdf-3b48-4630-9d22-6a1c8126cedb",
   "metadata": {},
   "outputs": [
    {
     "name": "stdout",
     "output_type": "stream",
     "text": [
      "20 20 20\n"
     ]
    }
   ],
   "source": [
    "a=b=c=20\n",
    "print(a,b,c)"
   ]
  },
  {
   "cell_type": "code",
   "execution_count": null,
   "id": "bda58f83-9773-41f0-8c5e-ff8c6c01f780",
   "metadata": {},
   "outputs": [],
   "source": [
    "In the following case, we have three variables with different values."
   ]
  },
  {
   "cell_type": "code",
   "execution_count": 19,
   "id": "b1134207-20ce-4388-984e-dd98ab943e5c",
   "metadata": {},
   "outputs": [
    {
     "name": "stdout",
     "output_type": "stream",
     "text": [
      "10\n",
      "20\n",
      "30\n"
     ]
    }
   ],
   "source": [
    "a=10\n",
    "b=20\n",
    "c=30\n",
    "print(a)\n",
    "print(b)\n",
    "print(c)"
   ]
  },
  {
   "cell_type": "code",
   "execution_count": 21,
   "id": "b329e02d-dc5a-4ade-92b8-bcb582fc9e01",
   "metadata": {},
   "outputs": [
    {
     "name": "stdout",
     "output_type": "stream",
     "text": [
      "40 50 60\n"
     ]
    }
   ],
   "source": [
    "x,y,z = 40,50,60\n",
    "print(x,y,z)"
   ]
  },
  {
   "cell_type": "markdown",
   "id": "e4201e8f-fe74-43e2-9cba-8bef7fca0735",
   "metadata": {},
   "source": [
    "Here, an integer object is created with the value 1, and all three variables are assigned to the same memory location. You can also assign multiple objects to multiple variables. For example"
   ]
  },
  {
   "cell_type": "code",
   "execution_count": 22,
   "id": "4c9dd116-8991-4971-8c62-4094404f213c",
   "metadata": {},
   "outputs": [
    {
     "name": "stdout",
     "output_type": "stream",
     "text": [
      "100 200 Vishal\n"
     ]
    }
   ],
   "source": [
    "num1, num2, word1 = 100,200, \"Vishal\"\n",
    "print(num1, num2, word1)"
   ]
  },
  {
   "cell_type": "markdown",
   "id": "5027bc92-d65a-48e7-bfe2-c46ec6931942",
   "metadata": {},
   "source": [
    "## Python Variables - Naming Convention\n",
    "\n",
    "Every Python variable should have a unique name like a, b, c. A variable name can be meaningful like color, age, name etc. There are certain rules which should be taken care while naming a Python variable:\n",
    "\n",
    "- A variable name must start with a letter or the underscore character\n",
    "- A variable name cannot start with a number or any special character like $, (, * % etc.\n",
    "- A variable name can only contain alpha-numeric characters and underscores (A-z, 0-9, and _ )\n",
    "- Python variable names are case-sensitive which means Name and NAME are two different variables in Python.\n",
    "- Python reserved keywords cannot be used naming the variable.\n",
    "\n",
    "If the name of variable contains multiple words, we should use these naming patterns −\n",
    "\n",
    "- **Camel case** − First letter is a lowercase, but first letter of each subsequent word is in uppercase. For example: kmPerHour, pricePerLitre\n",
    "- **Pascal case** − First letter of each word is in uppercase. For example: KmPerHour, PricePerLitre\n",
    "- **Snake case** − Use single underscore (_) character to separate words. For example: km_per_hour, price_per_litre"
   ]
  },
  {
   "cell_type": "code",
   "execution_count": 23,
   "id": "95363f0f-37c1-4a77-b2ff-447d51d63ca3",
   "metadata": {},
   "outputs": [
    {
     "name": "stdout",
     "output_type": "stream",
     "text": [
      "100\n",
      "1000\n",
      "Vishal\n",
      "Ram\n",
      "20\n",
      "100000\n"
     ]
    }
   ],
   "source": [
    "counter = 100\n",
    "_count  = 1000\n",
    "name1 = \"Vishal\"\n",
    "name2 = \"Ram\"\n",
    "Age  = 20\n",
    "salary = 100000\n",
    "\n",
    "print (counter)\n",
    "print (_count)\n",
    "print (name1)\n",
    "print (name2)\n",
    "print (Age)\n",
    "print (salary)\n"
   ]
  },
  {
   "cell_type": "code",
   "execution_count": 28,
   "id": "0afb5c74-fa2d-40ba-a8dd-f3d9860b4079",
   "metadata": {},
   "outputs": [
    {
     "ename": "SyntaxError",
     "evalue": "invalid decimal literal (1471331190.py, line 1)",
     "output_type": "error",
     "traceback": [
      "\u001b[1;36m  Cell \u001b[1;32mIn[28], line 1\u001b[1;36m\u001b[0m\n\u001b[1;33m    1counter = 100\u001b[0m\n\u001b[1;37m    ^\u001b[0m\n\u001b[1;31mSyntaxError\u001b[0m\u001b[1;31m:\u001b[0m invalid decimal literal\n"
     ]
    }
   ],
   "source": [
    "1counter = 100\n",
    "$_count  = 100\n",
    "-salary = 100000\n",
    "\n",
    "print (1counter)\n",
    "print ($count)\n",
    "print (-salary)\n"
   ]
  },
  {
   "cell_type": "markdown",
   "id": "5175683f-0dfc-4baf-9269-ccc8d36c0ac8",
   "metadata": {},
   "source": [
    "Once you use a variable to identify a data object, it can be used repeatedly without its id() value. Here, we have a variables height and width of a rectangle. We can compute the area and perimeter with these variables."
   ]
  },
  {
   "cell_type": "code",
   "execution_count": 29,
   "id": "a9bcf47c-8eb8-4ad4-a7bb-a384409f9c8e",
   "metadata": {},
   "outputs": [
    {
     "name": "stdout",
     "output_type": "stream",
     "text": [
      "200\n"
     ]
    }
   ],
   "source": [
    "width = 10\n",
    "height = 20\n",
    "area = width*height\n",
    "print(area)"
   ]
  },
  {
   "cell_type": "code",
   "execution_count": 30,
   "id": "ffa1c1b0-92c2-433f-b9f1-aa14b6d3d899",
   "metadata": {},
   "outputs": [
    {
     "name": "stdout",
     "output_type": "stream",
     "text": [
      "60\n"
     ]
    }
   ],
   "source": [
    "perimeter = 2*(width+height)\n",
    "print(perimeter)"
   ]
  },
  {
   "cell_type": "markdown",
   "id": "41578b57-8b66-4e78-be4d-29494e66eda1",
   "metadata": {},
   "source": [
    "## Python Local Variables\n",
    "\n",
    "Python Local Variables are defined inside a function. We can not access variable outside the function.\n",
    "\n",
    "> A Python functions is a piece of reusable code.\n",
    "\n",
    "### Example\n",
    "\n",
    "Following is an example to show the usage of local variables:"
   ]
  },
  {
   "cell_type": "markdown",
   "id": "f8c44c9e-40a3-4be1-be8c-3887bd75f906",
   "metadata": {},
   "source": [
    "def sum(x,y):\n",
    "    add = x+y\n",
    "    return add\n",
    "\n",
    "print(sum(5,10))"
   ]
  },
  {
   "cell_type": "markdown",
   "id": "d112a08e-3aba-4d24-bca5-b28fc6eb7c3f",
   "metadata": {},
   "source": [
    "## Python Global Variables\n",
    "\n",
    "Any variable created outside a function can be accessed within any function and so they have global scope.\n",
    "\n",
    "### Example\n",
    "\n",
    "Following is an example of global variables"
   ]
  },
  {
   "cell_type": "code",
   "execution_count": 3,
   "id": "f0402a83-3233-41c2-b915-c9d7123e3f3b",
   "metadata": {},
   "outputs": [
    {
     "name": "stdout",
     "output_type": "stream",
     "text": [
      "15\n"
     ]
    }
   ],
   "source": [
    "x = 5\n",
    "y = 10\n",
    "def sum():\n",
    "    add = x+y\n",
    "    return add\n",
    "\n",
    "print(sum())"
   ]
  },
  {
   "cell_type": "markdown",
   "id": "46b6bf96-944f-4854-83e2-0d8f4a19d099",
   "metadata": {},
   "source": [
    "## Constants in Python\n",
    "\n",
    "Python doesn't have any formally defined constants, However you can indicate a variable to be treated as a constant by using all-caps names with underscores. For example, the name PI_VALUE indicates that you don't want the variable redefined or changed in any way.\n",
    "\n",
    "> The naming convention using all-caps is sometimes referred to as screaming snake case - where the all-caps (screaming) and the underscores (snakes).\n",
    "> \n",
    "\n",
    "## Python vs C/C++ Variables\n",
    "\n",
    "The concept of variable works differently in Python than in C/C++. In C/C++, a variable is a named memory location. If a=10 and also b=10, both are two different memory locations. Let us assume their memory address is 100 and 200 respectively.\n",
    "\n",
    "![Image](https://github.com/user-attachments/assets/a5c8b80f-df3c-4c8e-8a93-071e4ef8ea9e)\n",
    "\n",
    "If a different value is assigned to \"a\" - say 50, 10 in the address 100 is overwritten.\n",
    "\n",
    "![Image](https://github.com/user-attachments/assets/ec467706-e5b8-4db7-89f9-dcd7dc965c18)\n",
    "\n",
    "A Python variable refers to the object and not the memory location. An object is stored in memory only once. Multiple variables are really the multiple labels to the same object.\n",
    "\n",
    "![Image](https://github.com/user-attachments/assets/767e87bf-ebef-41e8-999f-581a9f827866)\n",
    "\n",
    "\n",
    "The statement a=50 creates a new int object 50 in the memory at some other location, leaving the object 10 referred by \"b\".\n",
    "\n",
    "![Image](https://github.com/user-attachments/assets/d1b946f3-c907-4059-94fd-ef6eb88115ec)\n",
    "\n",
    "Further, if you assign some other value to b, the object 10 remains unreferred.\n",
    "\n",
    "![Image](https://github.com/user-attachments/assets/15c0652f-0f38-4af4-bcbc-0172ad148dc2)\n",
    "\n",
    "Python's garbage collector mechanism releases the memory occupied by any unreferred object.\n",
    "\n",
    "Python's identity operator is returns True if both the operands have same id() value."
   ]
  },
  {
   "cell_type": "code",
   "execution_count": 4,
   "id": "2d8d6200-b94b-47a2-a0d3-82c56c181bc0",
   "metadata": {},
   "outputs": [
    {
     "data": {
      "text/plain": [
       "True"
      ]
     },
     "execution_count": 4,
     "metadata": {},
     "output_type": "execute_result"
    }
   ],
   "source": [
    "a=b=10\n",
    "a is b"
   ]
  },
  {
   "cell_type": "code",
   "execution_count": 5,
   "id": "888f1fa2-fbc9-4cee-b0c7-76da36b537d5",
   "metadata": {},
   "outputs": [
    {
     "data": {
      "text/plain": [
       "(140719741283032, 140719741283032)"
      ]
     },
     "execution_count": 5,
     "metadata": {},
     "output_type": "execute_result"
    }
   ],
   "source": [
    "id(a), id(b)"
   ]
  },
  {
   "cell_type": "code",
   "execution_count": null,
   "id": "7998d831-3310-442f-9deb-9b9e97adecfc",
   "metadata": {},
   "outputs": [],
   "source": []
  },
  {
   "cell_type": "code",
   "execution_count": null,
   "id": "5f0dd154-49b3-4283-8d9e-3f1f3c2c70d2",
   "metadata": {},
   "outputs": [],
   "source": []
  }
 ],
 "metadata": {
  "kernelspec": {
   "display_name": "Python 3 (ipykernel)",
   "language": "python",
   "name": "python3"
  },
  "language_info": {
   "codemirror_mode": {
    "name": "ipython",
    "version": 3
   },
   "file_extension": ".py",
   "mimetype": "text/x-python",
   "name": "python",
   "nbconvert_exporter": "python",
   "pygments_lexer": "ipython3",
   "version": "3.12.7"
  }
 },
 "nbformat": 4,
 "nbformat_minor": 5
}
