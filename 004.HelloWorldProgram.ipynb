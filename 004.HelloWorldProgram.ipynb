{
 "cells": [
  {
   "cell_type": "markdown",
   "id": "8d529d62-23f7-4824-b8f5-decf47c6a658",
   "metadata": {},
   "source": [
    "## Hello World Program in Python\n",
    "\n",
    "Printing **\"Hello World\"** is the first program in Python. This program will not take any user input, it will just print text on the output screen. It is used to test if the software needed to compile and run the program has been installed correctly.\n",
    "\n",
    "## Steps\n",
    "\n",
    "The following are the steps to write a Python program to print Hello World –\n",
    "\n",
    "- Step 1: Install Python. Make sure that Python is installed on your system or not. If Python is not installed, then install it from here: https://www.python.org/downloads/\n",
    "- Step 2: Choose Text Editor or IDE to write the code.\n",
    "- Step 3: Open Text Editor or IDE, create a new file, and write the code to print Hello World.\n",
    "- Step 4: Save the file with a file name and extension \".py\".\n",
    "- Step 5: Compile/Run the program."
   ]
  },
  {
   "cell_type": "code",
   "execution_count": 1,
   "id": "e9edbe2d-04d8-4e69-8ee3-d2abf98ff8e4",
   "metadata": {},
   "outputs": [
    {
     "name": "stdout",
     "output_type": "stream",
     "text": [
      "Hello World\n"
     ]
    }
   ],
   "source": [
    "# Python code to print \"Hello World\"\n",
    "print (\"Hello World\")"
   ]
  },
  {
   "cell_type": "markdown",
   "id": "e4bd131a-31ee-4626-afc3-c50211c9ecbd",
   "metadata": {},
   "source": [
    "In the above code, we wrote two lines. The first line is the Python comment that will be ignored by the Python interpreter, and the second line is the print() statement that will print the given message (\"Hello World\") on the output screen."
   ]
  },
  {
   "cell_type": "code",
   "execution_count": null,
   "id": "b13ffcf3-5273-4e43-9048-220286e3247e",
   "metadata": {},
   "outputs": [],
   "source": []
  }
 ],
 "metadata": {
  "kernelspec": {
   "display_name": "Python 3 (ipykernel)",
   "language": "python",
   "name": "python3"
  },
  "language_info": {
   "codemirror_mode": {
    "name": "ipython",
    "version": 3
   },
   "file_extension": ".py",
   "mimetype": "text/x-python",
   "name": "python",
   "nbconvert_exporter": "python",
   "pygments_lexer": "ipython3",
   "version": "3.12.7"
  }
 },
 "nbformat": 4,
 "nbformat_minor": 5
}
