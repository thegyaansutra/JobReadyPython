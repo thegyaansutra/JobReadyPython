{
 "cells": [
  {
   "cell_type": "markdown",
   "id": "f49d4581-3406-4137-b95d-03c9b4c68613",
   "metadata": {},
   "source": [
    "## History of Python\n",
    "\n",
    "Python was developed by Guido van Rossum (a Dutch programmer) in the late 1980s and early nineties at the National Research Institute for Mathematics and Computer Science in the Netherlands.\n",
    "\n",
    "Python is derived from many other languages, including ABC, Modula-3, C, C++, Algol-68, SmallTalk, and Unix shell and other scripting languages. Guido van Rossum wanted Python to be a high-level language that was powerful yet readable and easy to use.\n",
    "\n",
    "Python is copyrighted. Like Perl, Python source code is now available under the GNU General Public License (GPL).\n",
    "\n",
    "For many uninitiated people, the word Python is related to a species of snake. Rossum though attributes the choice of the name Python to a popular comedy series **Monty Python's Flying Circus** on BBC.\n",
    "\n",
    "Being the principal architect of Python, the developer community conferred upon him the title of **Benevolent Dictator for Life** (BDFL). However, in 2018, Rossum relinquished the title. Thereafter, the development and distribution of the reference implementation of Python is handled by a nonprofit organization **Python Software Foundation**.ins\n",
    "\n",
    "## Who Invented Python?\n",
    "\n",
    "Python was invented by a Dutch Programmer Guido Van Rossum in the late 1980s. He began working on Python in December 1989 as a hobby project while working at the Centrum Wiskunde & Informatica (CWI) in the Netherlands. Python's first version (0.9.0) was released in 1991.\n",
    "\n",
    "## Evolution of Python – The Major Python Versions\n",
    "\n",
    "Following are the important stages in the history of Python −\n",
    "\n",
    "### Python 0.9.0\n",
    "\n",
    "Python's first published version is 0.9. It was released in February 1991. It consisted of features such as classes with inheritance, exception handling, and core data types like lists and dictionaries..\n",
    "\n",
    "### Python 1.0\n",
    "\n",
    "In January 1994, version 1.0 was released, armed with functional programming tools, features like support for complex numbers etc and module system which allows a better code organization and reuse.\n",
    "\n",
    "### Python 2.0\n",
    "\n",
    "Next major version − Python 2.0 was launched in October 2000. Many new features such as list comprehension, garbage collection and Unicode support were included with it. Throughout the 2000s, Python 2.x became the dominant version, gaining traction in industries ranging from web development to scientific research. Various useful libraries like like NumPy, SciPy, and Django were also developed.\n",
    "\n",
    "### Python 3.0\n",
    "\n",
    "Python 3.0, a completely revamped version of Python was released in December 2008. The primary objective of this revamp was to remove a lot of discrepancies that had crept in Python 2.x versions. Python 3 was backported to Python 2.6. It also included a utility named as **python2to3** to facilitate automatic translation of Python 2 code to Python 3. Python 3 provided new syntax, unicode support and Improved integer division.\n",
    "\n",
    "## EOL for Python 2.x\n",
    "\n",
    "Even after the release of Python 3, Python Software Foundation continued to support the Python 2 branch with incremental micro versions till 2019. However, it decided to discontinue the support by the end of year 2020, at which time Python 2.7.17 was the last version in the branch.\n",
    "\n",
    "## Current Version of Python\n",
    "\n",
    "Meanwhile, more and more features have been incorporated into Python's 3.x branch. As of date, Python **3.13.2** is the current stable version, released in February 2025.\n",
    "\n",
    "## Python in the Future\n",
    "\n",
    "Python is evolving everyday where Python 3.x receiving regular updates. Python's developers community is focusing on performance improvements making it more efficient while retaining its ease of use.\n",
    "\n",
    "Python is being heavily used for machine learning, AI, and data science, so for sure its future remains bright. It's role in these rapidly growing fields ensures that Python will stay relevant for years.\n",
    "\n",
    "Python is also increasingly becoming the first programming language taught in schools and universities worldwide, solidifying its place in the tech landscape."
   ]
  },
  {
   "cell_type": "markdown",
   "id": "cb1f7d95-4ee8-49a0-ad4c-271f14d82bb3",
   "metadata": {},
   "source": []
  }
 ],
 "metadata": {
  "kernelspec": {
   "display_name": "Python 3 (ipykernel)",
   "language": "python",
   "name": "python3"
  },
  "language_info": {
   "codemirror_mode": {
    "name": "ipython",
    "version": 3
   },
   "file_extension": ".py",
   "mimetype": "text/x-python",
   "name": "python",
   "nbconvert_exporter": "python",
   "pygments_lexer": "ipython3",
   "version": "3.12.7"
  }
 },
 "nbformat": 4,
 "nbformat_minor": 5
}
