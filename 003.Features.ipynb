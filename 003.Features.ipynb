{
 "cells": [
  {
   "cell_type": "markdown",
   "id": "67ff6d89-f05d-4448-bf5d-292d855eecc2",
   "metadata": {},
   "source": [
    "Python is a feature-rich, high-level, interpreted, interactive, and object-oriented scripting language. Python is a versatile and very popular programming language due to its features such as readability, simplicity, extensive libraries, and many more. In this tutorial, we will learn about the various features of Python that make it a powerful and versatile programming language.\n",
    "\n",
    "<img src=\"https://www.tutorialspoint.com/python/images/python_important_features.jpg\">"
   ]
  },
  {
   "cell_type": "markdown",
   "id": "a1d9bd41-1894-4666-b12b-ca0c138a4efd",
   "metadata": {},
   "source": [
    "Python's most important features are as follows:\n",
    "\n",
    "- Easy to Learn\n",
    "- Dynamically Typed\n",
    "- Interpreter Based\n",
    "- Interactive\n",
    "- Multi-paradigm\n",
    "- Standard Library\n",
    "- Open Source and Cross Platform\n",
    "- GUI Applications\n",
    "- Database Connectivity\n",
    "- Extensible\n",
    "- Active Developer Community\n",
    "\n",
    "## Easy to Learn\n",
    "\n",
    "This is one of the most important reasons for the popularity of Python. Python has a limited set of keywords. Its features such as simple syntax, usage of indentation to avoid clutter of curly brackets and dynamic typing that doesn't necessitate prior declaration of variable help a beginner to learn Python quickly and easily.\n",
    "\n",
    "## Dynamically Typed\n",
    "\n",
    "Python is a dynamically typed programming language. In Python, you don't need to specify the variable time at the time of the variable declaration. The types are specified at the runtime based on the assigned value due to its dynamically typed feature.\n",
    "\n",
    "## Interpreter Based\n",
    "\n",
    "Instructions in any programming languages must be translated into machine code for the processor to execute them. Programming languages are either compiler based or interpreter based.\n",
    "\n",
    "In case of a compiler, a machine language version of the entire source program is generated. The conversion fails even if there is a single erroneous statement. Hence, the development process is tedious for the beginners. The C family languages (including C, C++, Java, C# etc) are compiler based.\n",
    "\n",
    "Python is an interpreter based language. The interpreter takes one instruction from the source code at a time, translates it into machine code and executes it. Instructions before the first occurrence of error are executed. With this feature, it is easier to debug the program and thus proves useful for the beginner level programmer to gain confidence gradually. Python therefore is a beginner-friendly language.\n",
    "\n",
    "## Interactive\n",
    "\n",
    "Standard Python distribution comes with an interactive shell that works on the principle of REPL (Read – Evaluate – Print – Loop). The shell presents a Python prompt >>>. You can type any valid Python expression and press Enter. Python interpreter immediately returns the response and the prompt comes back to read the next expression."
   ]
  },
  {
   "cell_type": "code",
   "execution_count": 1,
   "id": "ad28b523-ed1a-428d-89f2-80467129bb9f",
   "metadata": {},
   "outputs": [
    {
     "name": "stdout",
     "output_type": "stream",
     "text": [
      "Welcome to the gyaan sutra\n"
     ]
    }
   ],
   "source": [
    "print(\"Welcome to the gyaan sutra\")"
   ]
  },
  {
   "cell_type": "code",
   "execution_count": 2,
   "id": "79c9c85a-e146-46a8-bfc2-c7f347625780",
   "metadata": {},
   "outputs": [
    {
     "data": {
      "text/plain": [
       "7"
      ]
     },
     "execution_count": 2,
     "metadata": {},
     "output_type": "execute_result"
    }
   ],
   "source": [
    "2*3+1"
   ]
  },
  {
   "cell_type": "code",
   "execution_count": 6,
   "id": "85165a73-67d5-4392-a7fa-a4d7b636d697",
   "metadata": {},
   "outputs": [
    {
     "name": "stdout",
     "output_type": "stream",
     "text": [
      "9\n"
     ]
    }
   ],
   "source": [
    "x=3\n",
    "y=4\n",
    "print(x+y+2)"
   ]
  },
  {
   "cell_type": "markdown",
   "id": "79e97a66-139b-426a-8feb-87f29c9d4061",
   "metadata": {},
   "source": [
    "The interactive mode is especially useful to get familiar with a library and test out its functionality. You can try out small code snippets in interactive mode before writing a program.\n",
    "\n",
    "## Multi-paradigm\n",
    "\n",
    "Python is a completely object-oriented language. Everything in a Python program is an object. However, Python conveniently encapsulates its object orientation to be used as an imperative or procedural language – such as C. Python also provides certain functionality that resembles functional programming. Moreover, certain third-party tools have been developed to support other programming paradigms such as aspect-oriented and logic programming.\n",
    "\n",
    "## Standard Library\n",
    "\n",
    "Even though it has a very few keywords (only Thirty Five), Python software is distributed with a standard library made of large number of modules and packages. Thus Python has out of box support for programming needs such as serialization, data compression, internet data handling, and many more. Python is known for its batteries included approach.\n",
    "\n",
    "Some of the Python's popular modules are:\n",
    "\n",
    "- NumPy\n",
    "- Pandas\n",
    "- Matplotlib\n",
    "- Tkinter\n",
    "- Math\n",
    "\n",
    "## Open Source and Cross Platform\n",
    "\n",
    "Python's standard distribution can be downloaded from https://www.python.org/downloads/ without any restrictions. You can download pre-compiled binaries for various operating system platforms. In addition, the source code is also freely available, which is why it comes under open source category.\n",
    "\n",
    "Python software (along with the documentation) is distributed under Python Software Foundation License. It is a BSD style permissive software license and compatible to GNU GPL (General Public License).\n",
    "\n",
    "Python is a cross-platform language. Pre-compiled binaries are available for use on various operating system platforms such as Windows, Linux, Mac OS, Android OS. The reference implementation of Python is called CPython and is written in C. You can download the source code and compile it for your OS platform.\n",
    "\n",
    "A Python program is first compiled to an intermediate platform independent byte code. The virtual machine inside the interpreter then executes the byte code. This behaviour makes Python a cross-platform language, and thus a Python program can be easily ported from one OS platform to other.\n",
    "\n",
    "## GUI Applications\n",
    "\n",
    "Python's standard distribution has an excellent graphics library called TKinter. It is a Python port for the vastly popular GUI toolkit called TCL/Tk. You can build attractive user-friendly GUI applications in Python. GUI toolkits are generally written in C/C++. Many of them have been ported to Python. Examples are PyQt, WxWidgets, PySimpleGUI etc.\n",
    "\n",
    "## Database Connectivity\n",
    "\n",
    "Almost any type of database can be used as a backend with the Python application. DB-API is a set of specifications for database driver software to let Python communicate with a relational database. With many third party libraries, Python can also work with NoSQL databases such as MongoDB.\n",
    "\n",
    "## Extensible\n",
    "\n",
    "The term extensibility implies the ability to add new features or modify existing features. As stated earlier, CPython (which is Python's reference implementation) is written in C. Hence one can easily write modules/libraries in C and incorporate them in the standard library. There are other implementations of Python such as Jython (written in Java) and IPython (written in C#). Hence, it is possible to write and merge new functionality in these implementations with Java and C# respectively.\n",
    "\n",
    "## Active Developer Community\n",
    "\n",
    "As a result of Python's popularity and open-source nature, a large number of Python developers often interact with online forums and conferences. Python Software Foundation also has a significant member base, involved in the organization's mission to \"**Promote, Protect, and Advance the Python Programming Language**\"\n",
    "\n",
    "Python also enjoys a significant institutional support. Major IT companies Google, Microsoft, and Meta contribute immensely by preparing documentation and other resources.\n",
    "\n",
    "Apart from the above-mentioned features, Python has another big list of good features, few are listed below −\n",
    "\n",
    "- It supports functional and structured programming methods as well as OOP.\n",
    "- It can be used as a scripting language or can be compiled to byte-code for building large applications.\n",
    "- It provides very high-level dynamic data types and supports dynamic type checking.\n",
    "- It supports automatic garbage collection.\n",
    "- It can be easily integrated with C, C++, COM, ActiveX, CORBA, and Java."
   ]
  },
  {
   "cell_type": "code",
   "execution_count": null,
   "id": "4ba4637e-08c0-4de7-ba13-8d251c9ce5ec",
   "metadata": {},
   "outputs": [],
   "source": []
  }
 ],
 "metadata": {
  "kernelspec": {
   "display_name": "Python 3 (ipykernel)",
   "language": "python",
   "name": "python3"
  },
  "language_info": {
   "codemirror_mode": {
    "name": "ipython",
    "version": 3
   },
   "file_extension": ".py",
   "mimetype": "text/x-python",
   "name": "python",
   "nbconvert_exporter": "python",
   "pygments_lexer": "ipython3",
   "version": "3.12.7"
  }
 },
 "nbformat": 4,
 "nbformat_minor": 5
}
